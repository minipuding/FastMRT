{
 "cells": [
  {
   "attachments": {},
   "cell_type": "markdown",
   "metadata": {},
   "source": [
    "## FastMRT Tutoral on Datasets and Models"
   ]
  },
  {
   "cell_type": "code",
   "execution_count": 1,
   "metadata": {},
   "outputs": [
    {
     "name": "stdout",
     "output_type": "stream",
     "text": [
      "1739\n"
     ]
    }
   ],
   "source": [
    "\"\"\"Dubug fastmrt.data\"\"\"\n",
    "\n",
    "from fastmrt.data.dataset import SliceDataset, VolumeDataset\n",
    "from fastmrt.data.mask import EquiSpacedMaskFunc\n",
    "from fastmrt.data.augs import ComplexAugs, IdentityAugs\n",
    "from fastmrt.data.prf import PrfFunc, PrfHeader\n",
    "from fastmrt.data.transforms import FastmrtDataTransform2D\n",
    "from fastmrt.utils.trans import real_tensor_to_complex_np as rt2cn\n",
    "from fastmrt.utils.normalize import denormalize\n",
    "import matplotlib.pyplot as plt\n",
    "import numpy as np\n",
    "import torch\n",
    "\n",
    "# assign data root\n",
    "data_root  = '/home/sxu/SJTU/FastMRT/fastMRT/Datasets/FastMRT Dataset V5.0/phantom/train/source'\n",
    "\n",
    "# define mask function\n",
    "mask_func = EquiSpacedMaskFunc(center_fraction=0.15, acceleration=4)\n",
    "\n",
    "# define augmentation function\n",
    "# augs_func = ComplexAugs(96, 96, True, objs=[\"amp\"])\n",
    "augs_func = IdentityAugs()\n",
    "\n",
    "# define prf function\n",
    "prf_header = PrfHeader(B0=3, gamma=42.576, alpha=0.01, TE=12)\n",
    "prf_func = PrfFunc(prf_header)\n",
    "\n",
    "# define data transforms\n",
    "transforms = FastmrtDataTransform2D(mask_func=mask_func, prf_func=prf_func, aug_func=augs_func, data_format='RF')\n",
    "\n",
    "# define dataset\n",
    "slice_dataset = SliceDataset(root=[data_root], transform=transforms)\n",
    "\n",
    "print(len(slice_dataset))"
   ]
  }
 ],
 "metadata": {
  "kernelspec": {
   "display_name": "sxu",
   "language": "python",
   "name": "python3"
  },
  "language_info": {
   "codemirror_mode": {
    "name": "ipython",
    "version": 3
   },
   "file_extension": ".py",
   "mimetype": "text/x-python",
   "name": "python",
   "nbconvert_exporter": "python",
   "pygments_lexer": "ipython3",
   "version": "3.9.18"
  },
  "orig_nbformat": 4,
  "vscode": {
   "interpreter": {
    "hash": "bfc95f45f3d5b76da2c2aa7ff2c431355ef27da715af082f37a9fd89aed80ab7"
   }
  }
 },
 "nbformat": 4,
 "nbformat_minor": 2
}
